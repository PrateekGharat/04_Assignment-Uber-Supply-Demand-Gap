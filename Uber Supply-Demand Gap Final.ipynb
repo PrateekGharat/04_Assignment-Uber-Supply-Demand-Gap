{
 "cells": [
  {
   "cell_type": "code",
   "execution_count": 1,
   "metadata": {},
   "outputs": [],
   "source": [
    "import pandas as pd\n",
    "import numpy as np\n",
    "import seaborn as sns\n",
    "import matplotlib.pyplot as plt"
   ]
  },
  {
   "cell_type": "markdown",
   "metadata": {},
   "source": [
    "# Data Cleaning and Preparation "
   ]
  },
  {
   "cell_type": "code",
   "execution_count": 2,
   "metadata": {},
   "outputs": [
    {
     "data": {
      "text/html": [
       "<div>\n",
       "<style scoped>\n",
       "    .dataframe tbody tr th:only-of-type {\n",
       "        vertical-align: middle;\n",
       "    }\n",
       "\n",
       "    .dataframe tbody tr th {\n",
       "        vertical-align: top;\n",
       "    }\n",
       "\n",
       "    .dataframe thead th {\n",
       "        text-align: right;\n",
       "    }\n",
       "</style>\n",
       "<table border=\"1\" class=\"dataframe\">\n",
       "  <thead>\n",
       "    <tr style=\"text-align: right;\">\n",
       "      <th></th>\n",
       "      <th>Request id</th>\n",
       "      <th>Pickup point</th>\n",
       "      <th>Driver id</th>\n",
       "      <th>Status</th>\n",
       "      <th>Request timestamp</th>\n",
       "      <th>Drop timestamp</th>\n",
       "    </tr>\n",
       "  </thead>\n",
       "  <tbody>\n",
       "    <tr>\n",
       "      <th>0</th>\n",
       "      <td>619</td>\n",
       "      <td>Airport</td>\n",
       "      <td>1.0</td>\n",
       "      <td>Trip Completed</td>\n",
       "      <td>11/7/2016 11:51</td>\n",
       "      <td>11/7/2016 13:00</td>\n",
       "    </tr>\n",
       "    <tr>\n",
       "      <th>1</th>\n",
       "      <td>867</td>\n",
       "      <td>Airport</td>\n",
       "      <td>1.0</td>\n",
       "      <td>Trip Completed</td>\n",
       "      <td>11/7/2016 17:57</td>\n",
       "      <td>11/7/2016 18:47</td>\n",
       "    </tr>\n",
       "    <tr>\n",
       "      <th>2</th>\n",
       "      <td>1807</td>\n",
       "      <td>City</td>\n",
       "      <td>1.0</td>\n",
       "      <td>Trip Completed</td>\n",
       "      <td>12/7/2016 9:17</td>\n",
       "      <td>12/7/2016 9:58</td>\n",
       "    </tr>\n",
       "    <tr>\n",
       "      <th>3</th>\n",
       "      <td>2532</td>\n",
       "      <td>Airport</td>\n",
       "      <td>1.0</td>\n",
       "      <td>Trip Completed</td>\n",
       "      <td>12/7/2016 21:08</td>\n",
       "      <td>12/7/2016 22:03</td>\n",
       "    </tr>\n",
       "    <tr>\n",
       "      <th>4</th>\n",
       "      <td>3112</td>\n",
       "      <td>City</td>\n",
       "      <td>1.0</td>\n",
       "      <td>Trip Completed</td>\n",
       "      <td>13-07-2016 08:33:16</td>\n",
       "      <td>13-07-2016 09:25:47</td>\n",
       "    </tr>\n",
       "  </tbody>\n",
       "</table>\n",
       "</div>"
      ],
      "text/plain": [
       "   Request id Pickup point  Driver id          Status    Request timestamp  \\\n",
       "0         619      Airport        1.0  Trip Completed      11/7/2016 11:51   \n",
       "1         867      Airport        1.0  Trip Completed      11/7/2016 17:57   \n",
       "2        1807         City        1.0  Trip Completed       12/7/2016 9:17   \n",
       "3        2532      Airport        1.0  Trip Completed      12/7/2016 21:08   \n",
       "4        3112         City        1.0  Trip Completed  13-07-2016 08:33:16   \n",
       "\n",
       "        Drop timestamp  \n",
       "0      11/7/2016 13:00  \n",
       "1      11/7/2016 18:47  \n",
       "2       12/7/2016 9:58  \n",
       "3      12/7/2016 22:03  \n",
       "4  13-07-2016 09:25:47  "
      ]
     },
     "execution_count": 2,
     "metadata": {},
     "output_type": "execute_result"
    }
   ],
   "source": [
    "#Reading the dataset\n",
    "uber_df = pd.read_csv(\"Uber Request Data.csv\")\n",
    "uber_df.head()"
   ]
  },
  {
   "cell_type": "code",
   "execution_count": 3,
   "metadata": {},
   "outputs": [
    {
     "name": "stdout",
     "output_type": "stream",
     "text": [
      "<class 'pandas.core.frame.DataFrame'>\n",
      "RangeIndex: 6745 entries, 0 to 6744\n",
      "Data columns (total 6 columns):\n",
      "Request id           6745 non-null int64\n",
      "Pickup point         6745 non-null object\n",
      "Driver id            4095 non-null float64\n",
      "Status               6745 non-null object\n",
      "Request timestamp    6745 non-null object\n",
      "Drop timestamp       2831 non-null object\n",
      "dtypes: float64(1), int64(1), object(4)\n",
      "memory usage: 316.2+ KB\n"
     ]
    }
   ],
   "source": [
    "#Details of df\n",
    "uber_df.info()"
   ]
  },
  {
   "cell_type": "code",
   "execution_count": 4,
   "metadata": {},
   "outputs": [
    {
     "data": {
      "text/html": [
       "<div>\n",
       "<style scoped>\n",
       "    .dataframe tbody tr th:only-of-type {\n",
       "        vertical-align: middle;\n",
       "    }\n",
       "\n",
       "    .dataframe tbody tr th {\n",
       "        vertical-align: top;\n",
       "    }\n",
       "\n",
       "    .dataframe thead th {\n",
       "        text-align: right;\n",
       "    }\n",
       "</style>\n",
       "<table border=\"1\" class=\"dataframe\">\n",
       "  <thead>\n",
       "    <tr style=\"text-align: right;\">\n",
       "      <th></th>\n",
       "      <th>Request id</th>\n",
       "      <th>Driver id</th>\n",
       "    </tr>\n",
       "  </thead>\n",
       "  <tbody>\n",
       "    <tr>\n",
       "      <th>count</th>\n",
       "      <td>6745.000000</td>\n",
       "      <td>4095.000000</td>\n",
       "    </tr>\n",
       "    <tr>\n",
       "      <th>mean</th>\n",
       "      <td>3384.644922</td>\n",
       "      <td>149.501343</td>\n",
       "    </tr>\n",
       "    <tr>\n",
       "      <th>std</th>\n",
       "      <td>1955.099667</td>\n",
       "      <td>86.051994</td>\n",
       "    </tr>\n",
       "    <tr>\n",
       "      <th>min</th>\n",
       "      <td>1.000000</td>\n",
       "      <td>1.000000</td>\n",
       "    </tr>\n",
       "    <tr>\n",
       "      <th>25%</th>\n",
       "      <td>1691.000000</td>\n",
       "      <td>75.000000</td>\n",
       "    </tr>\n",
       "    <tr>\n",
       "      <th>50%</th>\n",
       "      <td>3387.000000</td>\n",
       "      <td>149.000000</td>\n",
       "    </tr>\n",
       "    <tr>\n",
       "      <th>75%</th>\n",
       "      <td>5080.000000</td>\n",
       "      <td>224.000000</td>\n",
       "    </tr>\n",
       "    <tr>\n",
       "      <th>max</th>\n",
       "      <td>6766.000000</td>\n",
       "      <td>300.000000</td>\n",
       "    </tr>\n",
       "  </tbody>\n",
       "</table>\n",
       "</div>"
      ],
      "text/plain": [
       "        Request id    Driver id\n",
       "count  6745.000000  4095.000000\n",
       "mean   3384.644922   149.501343\n",
       "std    1955.099667    86.051994\n",
       "min       1.000000     1.000000\n",
       "25%    1691.000000    75.000000\n",
       "50%    3387.000000   149.000000\n",
       "75%    5080.000000   224.000000\n",
       "max    6766.000000   300.000000"
      ]
     },
     "execution_count": 4,
     "metadata": {},
     "output_type": "execute_result"
    }
   ],
   "source": [
    "#Summary of numeric coloumn\n",
    "uber_df.describe()"
   ]
  },
  {
   "cell_type": "code",
   "execution_count": 5,
   "metadata": {},
   "outputs": [
    {
     "data": {
      "text/plain": [
       "(6745, 6)"
      ]
     },
     "execution_count": 5,
     "metadata": {},
     "output_type": "execute_result"
    }
   ],
   "source": [
    "# Checking rows and columns of df\n",
    "uber_df.shape"
   ]
  },
  {
   "cell_type": "code",
   "execution_count": 6,
   "metadata": {},
   "outputs": [
    {
     "name": "stdout",
     "output_type": "stream",
     "text": [
      "Request id              0\n",
      "Pickup point            0\n",
      "Driver id            2650\n",
      "Status                  0\n",
      "Request timestamp       0\n",
      "Drop timestamp       3914\n",
      "dtype: int64\n"
     ]
    }
   ],
   "source": [
    "#Checking for column-wise null count\n",
    "print(uber_df.isnull().sum())"
   ]
  },
  {
   "cell_type": "code",
   "execution_count": 7,
   "metadata": {},
   "outputs": [
    {
     "data": {
      "text/plain": [
       "Text(0.5,1,'% Missing values')"
      ]
     },
     "execution_count": 7,
     "metadata": {},
     "output_type": "execute_result"
    },
    {
     "data": {
      "image/png": "[encoded data removed]",
      "text/plain": [
       "<Figure size 720x504 with 1 Axes>"
      ]
     },
     "metadata": {
      "needs_background": "light"
     },
     "output_type": "display_data"
    }
   ],
   "source": [
    "# Graph showing % of null values\n",
    "\n",
    "plt.figure(figsize=(10,7))\n",
    "missing_val_percentage = ((uber_df.isnull().sum() / uber_df.shape[0])*100).sort_values()\n",
    "missing_val_percentage.plot(kind = \"barh\", color = \"blue\")\n",
    "plt.xlabel(\"% missing values\", size = 14)\n",
    "plt.ylabel(\"Column Names\", size = 14)\n",
    "plt.title(\"% Missing values\", size = 18)"
   ]
  },
  {
   "cell_type": "code",
   "execution_count": 8,
   "metadata": {},
   "outputs": [
    {
     "name": "stdout",
     "output_type": "stream",
     "text": [
      "0       0\n",
      "1       0\n",
      "2       0\n",
      "3       0\n",
      "4       0\n",
      "5       0\n",
      "6       0\n",
      "7       0\n",
      "8       0\n",
      "9       0\n",
      "10      0\n",
      "11      0\n",
      "12      0\n",
      "13      0\n",
      "14      0\n",
      "15      0\n",
      "16      0\n",
      "17      0\n",
      "18      0\n",
      "19      0\n",
      "20      0\n",
      "21      0\n",
      "22      0\n",
      "23      0\n",
      "24      0\n",
      "25      0\n",
      "26      0\n",
      "27      0\n",
      "28      0\n",
      "29      0\n",
      "       ..\n",
      "6715    2\n",
      "6716    2\n",
      "6717    2\n",
      "6718    2\n",
      "6719    2\n",
      "6720    2\n",
      "6721    2\n",
      "6722    2\n",
      "6723    2\n",
      "6724    2\n",
      "6725    2\n",
      "6726    2\n",
      "6727    2\n",
      "6728    2\n",
      "6729    2\n",
      "6730    2\n",
      "6731    2\n",
      "6732    2\n",
      "6733    2\n",
      "6734    2\n",
      "6735    2\n",
      "6736    2\n",
      "6737    2\n",
      "6738    2\n",
      "6739    2\n",
      "6740    2\n",
      "6741    2\n",
      "6742    2\n",
      "6743    2\n",
      "6744    2\n",
      "Length: 6745, dtype: int64\n"
     ]
    }
   ],
   "source": [
    "#Checking for row-wise null count\n",
    "rowwise = uber_df.isnull().sum(axis=1)\n",
    "print(rowwise)"
   ]
  },
  {
   "cell_type": "code",
   "execution_count": 9,
   "metadata": {},
   "outputs": [
    {
     "data": {
      "text/plain": [
       "Request id            0.000000\n",
       "Pickup point          0.000000\n",
       "Driver id            39.288362\n",
       "Status                0.000000\n",
       "Request timestamp     0.000000\n",
       "Drop timestamp       58.028169\n",
       "dtype: float64"
      ]
     },
     "execution_count": 9,
     "metadata": {},
     "output_type": "execute_result"
    }
   ],
   "source": [
    "#Checking for column-wise null percentages\n",
    "(uber_df.isnull().sum()/uber_df.shape[0])*100"
   ]
  },
  {
   "cell_type": "code",
   "execution_count": 10,
   "metadata": {},
   "outputs": [
    {
     "data": {
      "text/plain": [
       "0"
      ]
     },
     "execution_count": 10,
     "metadata": {},
     "output_type": "execute_result"
    }
   ],
   "source": [
    "#Checking for dupliacte data\n",
    "sum(uber_df.duplicated())"
   ]
  },
  {
   "cell_type": "code",
   "execution_count": 11,
   "metadata": {},
   "outputs": [
    {
     "data": {
      "text/html": [
       "<div>\n",
       "<style scoped>\n",
       "    .dataframe tbody tr th:only-of-type {\n",
       "        vertical-align: middle;\n",
       "    }\n",
       "\n",
       "    .dataframe tbody tr th {\n",
       "        vertical-align: top;\n",
       "    }\n",
       "\n",
       "    .dataframe thead th {\n",
       "        text-align: right;\n",
       "    }\n",
       "</style>\n",
       "<table border=\"1\" class=\"dataframe\">\n",
       "  <thead>\n",
       "    <tr style=\"text-align: right;\">\n",
       "      <th></th>\n",
       "      <th>Request id</th>\n",
       "      <th>Pickup point</th>\n",
       "      <th>Driver id</th>\n",
       "      <th>Status</th>\n",
       "      <th>Request timestamp</th>\n",
       "      <th>Drop timestamp</th>\n",
       "    </tr>\n",
       "  </thead>\n",
       "  <tbody>\n",
       "    <tr>\n",
       "      <th>0</th>\n",
       "      <td>619</td>\n",
       "      <td>Airport</td>\n",
       "      <td>1.0</td>\n",
       "      <td>Trip Completed</td>\n",
       "      <td>2016-07-11 11:51:00</td>\n",
       "      <td>2016-07-11 13:00:00</td>\n",
       "    </tr>\n",
       "    <tr>\n",
       "      <th>1</th>\n",
       "      <td>867</td>\n",
       "      <td>Airport</td>\n",
       "      <td>1.0</td>\n",
       "      <td>Trip Completed</td>\n",
       "      <td>2016-07-11 17:57:00</td>\n",
       "      <td>2016-07-11 18:47:00</td>\n",
       "    </tr>\n",
       "    <tr>\n",
       "      <th>2</th>\n",
       "      <td>1807</td>\n",
       "      <td>City</td>\n",
       "      <td>1.0</td>\n",
       "      <td>Trip Completed</td>\n",
       "      <td>2016-07-12 09:17:00</td>\n",
       "      <td>2016-07-12 09:58:00</td>\n",
       "    </tr>\n",
       "    <tr>\n",
       "      <th>3</th>\n",
       "      <td>2532</td>\n",
       "      <td>Airport</td>\n",
       "      <td>1.0</td>\n",
       "      <td>Trip Completed</td>\n",
       "      <td>2016-07-12 21:08:00</td>\n",
       "      <td>2016-07-12 22:03:00</td>\n",
       "    </tr>\n",
       "    <tr>\n",
       "      <th>4</th>\n",
       "      <td>3112</td>\n",
       "      <td>City</td>\n",
       "      <td>1.0</td>\n",
       "      <td>Trip Completed</td>\n",
       "      <td>2016-07-13 08:33:16</td>\n",
       "      <td>2016-07-13 09:25:47</td>\n",
       "    </tr>\n",
       "  </tbody>\n",
       "</table>\n",
       "</div>"
      ],
      "text/plain": [
       "   Request id Pickup point  Driver id          Status   Request timestamp  \\\n",
       "0         619      Airport        1.0  Trip Completed 2016-07-11 11:51:00   \n",
       "1         867      Airport        1.0  Trip Completed 2016-07-11 17:57:00   \n",
       "2        1807         City        1.0  Trip Completed 2016-07-12 09:17:00   \n",
       "3        2532      Airport        1.0  Trip Completed 2016-07-12 21:08:00   \n",
       "4        3112         City        1.0  Trip Completed 2016-07-13 08:33:16   \n",
       "\n",
       "       Drop timestamp  \n",
       "0 2016-07-11 13:00:00  \n",
       "1 2016-07-11 18:47:00  \n",
       "2 2016-07-12 09:58:00  \n",
       "3 2016-07-12 22:03:00  \n",
       "4 2016-07-13 09:25:47  "
      ]
     },
     "execution_count": 11,
     "metadata": {},
     "output_type": "execute_result"
    }
   ],
   "source": [
    "#Rearranging Request and Drop timestamps column to datetime format\n",
    "uber_df[\"Request timestamp\"] = pd.to_datetime(uber_df[\"Request timestamp\"], dayfirst=True)\n",
    "\n",
    "uber_df[\"Drop timestamp\"] = pd.to_datetime(uber_df[\"Drop timestamp\"], dayfirst=True)\n",
    "\n",
    "uber_df.head()"
   ]
  },
  {
   "cell_type": "code",
   "execution_count": 12,
   "metadata": {},
   "outputs": [
    {
     "data": {
      "text/html": [
       "<div>\n",
       "<style scoped>\n",
       "    .dataframe tbody tr th:only-of-type {\n",
       "        vertical-align: middle;\n",
       "    }\n",
       "\n",
       "    .dataframe tbody tr th {\n",
       "        vertical-align: top;\n",
       "    }\n",
       "\n",
       "    .dataframe thead th {\n",
       "        text-align: right;\n",
       "    }\n",
       "</style>\n",
       "<table border=\"1\" class=\"dataframe\">\n",
       "  <thead>\n",
       "    <tr style=\"text-align: right;\">\n",
       "      <th></th>\n",
       "      <th>Request id</th>\n",
       "      <th>Pickup point</th>\n",
       "      <th>Driver id</th>\n",
       "      <th>Status</th>\n",
       "      <th>Request timestamp</th>\n",
       "      <th>Drop timestamp</th>\n",
       "      <th>Request_Day</th>\n",
       "      <th>Request_Time</th>\n",
       "      <th>Request_hours</th>\n",
       "      <th>Drop_Day</th>\n",
       "      <th>Drop_Time</th>\n",
       "      <th>Drop_hours</th>\n",
       "    </tr>\n",
       "  </thead>\n",
       "  <tbody>\n",
       "    <tr>\n",
       "      <th>0</th>\n",
       "      <td>619</td>\n",
       "      <td>Airport</td>\n",
       "      <td>1.0</td>\n",
       "      <td>Trip Completed</td>\n",
       "      <td>2016-07-11 11:51:00</td>\n",
       "      <td>2016-07-11 13:00:00</td>\n",
       "      <td>2016-07-11</td>\n",
       "      <td>11:51:00</td>\n",
       "      <td>11</td>\n",
       "      <td>2016-07-11</td>\n",
       "      <td>13:00:00</td>\n",
       "      <td>13.0</td>\n",
       "    </tr>\n",
       "    <tr>\n",
       "      <th>1</th>\n",
       "      <td>867</td>\n",
       "      <td>Airport</td>\n",
       "      <td>1.0</td>\n",
       "      <td>Trip Completed</td>\n",
       "      <td>2016-07-11 17:57:00</td>\n",
       "      <td>2016-07-11 18:47:00</td>\n",
       "      <td>2016-07-11</td>\n",
       "      <td>17:57:00</td>\n",
       "      <td>17</td>\n",
       "      <td>2016-07-11</td>\n",
       "      <td>18:47:00</td>\n",
       "      <td>18.0</td>\n",
       "    </tr>\n",
       "    <tr>\n",
       "      <th>2</th>\n",
       "      <td>1807</td>\n",
       "      <td>City</td>\n",
       "      <td>1.0</td>\n",
       "      <td>Trip Completed</td>\n",
       "      <td>2016-07-12 09:17:00</td>\n",
       "      <td>2016-07-12 09:58:00</td>\n",
       "      <td>2016-07-12</td>\n",
       "      <td>09:17:00</td>\n",
       "      <td>9</td>\n",
       "      <td>2016-07-12</td>\n",
       "      <td>09:58:00</td>\n",
       "      <td>9.0</td>\n",
       "    </tr>\n",
       "    <tr>\n",
       "      <th>3</th>\n",
       "      <td>2532</td>\n",
       "      <td>Airport</td>\n",
       "      <td>1.0</td>\n",
       "      <td>Trip Completed</td>\n",
       "      <td>2016-07-12 21:08:00</td>\n",
       "      <td>2016-07-12 22:03:00</td>\n",
       "      <td>2016-07-12</td>\n",
       "      <td>21:08:00</td>\n",
       "      <td>21</td>\n",
       "      <td>2016-07-12</td>\n",
       "      <td>22:03:00</td>\n",
       "      <td>22.0</td>\n",
       "    </tr>\n",
       "    <tr>\n",
       "      <th>4</th>\n",
       "      <td>3112</td>\n",
       "      <td>City</td>\n",
       "      <td>1.0</td>\n",
       "      <td>Trip Completed</td>\n",
       "      <td>2016-07-13 08:33:16</td>\n",
       "      <td>2016-07-13 09:25:47</td>\n",
       "      <td>2016-07-13</td>\n",
       "      <td>08:33:16</td>\n",
       "      <td>8</td>\n",
       "      <td>2016-07-13</td>\n",
       "      <td>09:25:47</td>\n",
       "      <td>9.0</td>\n",
       "    </tr>\n",
       "  </tbody>\n",
       "</table>\n",
       "</div>"
      ],
      "text/plain": [
       "   Request id Pickup point  Driver id          Status   Request timestamp  \\\n",
       "0         619      Airport        1.0  Trip Completed 2016-07-11 11:51:00   \n",
       "1         867      Airport        1.0  Trip Completed 2016-07-11 17:57:00   \n",
       "2        1807         City        1.0  Trip Completed 2016-07-12 09:17:00   \n",
       "3        2532      Airport        1.0  Trip Completed 2016-07-12 21:08:00   \n",
       "4        3112         City        1.0  Trip Completed 2016-07-13 08:33:16   \n",
       "\n",
       "       Drop timestamp Request_Day Request_Time  Request_hours    Drop_Day  \\\n",
       "0 2016-07-11 13:00:00  2016-07-11     11:51:00             11  2016-07-11   \n",
       "1 2016-07-11 18:47:00  2016-07-11     17:57:00             17  2016-07-11   \n",
       "2 2016-07-12 09:58:00  2016-07-12     09:17:00              9  2016-07-12   \n",
       "3 2016-07-12 22:03:00  2016-07-12     21:08:00             21  2016-07-12   \n",
       "4 2016-07-13 09:25:47  2016-07-13     08:33:16              8  2016-07-13   \n",
       "\n",
       "  Drop_Time  Drop_hours  \n",
       "0  13:00:00        13.0  \n",
       "1  18:47:00        18.0  \n",
       "2  09:58:00         9.0  \n",
       "3  22:03:00        22.0  \n",
       "4  09:25:47         9.0  "
      ]
     },
     "execution_count": 12,
     "metadata": {},
     "output_type": "execute_result"
    }
   ],
   "source": [
    "#Creating new derived columns from Request and Drop timestamps as Day,Time and hours\n",
    "\n",
    "#Request timestamp\n",
    "uber_df[\"Request_Day\"] = uber_df[\"Request timestamp\"].dt.date    #Day\n",
    "uber_df[\"Request_Time\"] = uber_df[\"Request timestamp\"].dt.time   #Time\n",
    "uber_df[\"Request_hours\"] = uber_df[\"Request timestamp\"].dt.hour  #Hours\n",
    "\n",
    "#Drop timestamp\n",
    "uber_df[\"Drop_Day\"] = uber_df[\"Drop timestamp\"].dt.date          #Day\n",
    "uber_df[\"Drop_Time\"] = uber_df[\"Drop timestamp\"].dt.time         #Time\n",
    "uber_df[\"Drop_hours\"] = uber_df[\"Drop timestamp\"].dt.hour        #Hours\n",
    "\n",
    "uber_df.head()"
   ]
  },
  {
   "cell_type": "code",
   "execution_count": 13,
   "metadata": {
    "scrolled": true
   },
   "outputs": [
    {
     "data": {
      "text/html": [
       "<div>\n",
       "<style scoped>\n",
       "    .dataframe tbody tr th:only-of-type {\n",
       "        vertical-align: middle;\n",
       "    }\n",
       "\n",
       "    .dataframe tbody tr th {\n",
       "        vertical-align: top;\n",
       "    }\n",
       "\n",
       "    .dataframe thead th {\n",
       "        text-align: right;\n",
       "    }\n",
       "</style>\n",
       "<table border=\"1\" class=\"dataframe\">\n",
       "  <thead>\n",
       "    <tr style=\"text-align: right;\">\n",
       "      <th></th>\n",
       "      <th>Request id</th>\n",
       "      <th>Pickup point</th>\n",
       "      <th>Driver id</th>\n",
       "      <th>Status</th>\n",
       "      <th>Request timestamp</th>\n",
       "      <th>Drop timestamp</th>\n",
       "      <th>Request_Day</th>\n",
       "      <th>Request_Time</th>\n",
       "      <th>Request_hours</th>\n",
       "      <th>Drop_Day</th>\n",
       "      <th>Drop_Time</th>\n",
       "      <th>Drop_hours</th>\n",
       "      <th>Times_of_Day</th>\n",
       "    </tr>\n",
       "  </thead>\n",
       "  <tbody>\n",
       "    <tr>\n",
       "      <th>0</th>\n",
       "      <td>619</td>\n",
       "      <td>Airport</td>\n",
       "      <td>1.0</td>\n",
       "      <td>Trip Completed</td>\n",
       "      <td>2016-07-11 11:51:00</td>\n",
       "      <td>2016-07-11 13:00:00</td>\n",
       "      <td>2016-07-11</td>\n",
       "      <td>11:51:00</td>\n",
       "      <td>11</td>\n",
       "      <td>2016-07-11</td>\n",
       "      <td>13:00:00</td>\n",
       "      <td>13.0</td>\n",
       "      <td>Morning</td>\n",
       "    </tr>\n",
       "    <tr>\n",
       "      <th>1</th>\n",
       "      <td>867</td>\n",
       "      <td>Airport</td>\n",
       "      <td>1.0</td>\n",
       "      <td>Trip Completed</td>\n",
       "      <td>2016-07-11 17:57:00</td>\n",
       "      <td>2016-07-11 18:47:00</td>\n",
       "      <td>2016-07-11</td>\n",
       "      <td>17:57:00</td>\n",
       "      <td>17</td>\n",
       "      <td>2016-07-11</td>\n",
       "      <td>18:47:00</td>\n",
       "      <td>18.0</td>\n",
       "      <td>Evening</td>\n",
       "    </tr>\n",
       "    <tr>\n",
       "      <th>2</th>\n",
       "      <td>1807</td>\n",
       "      <td>City</td>\n",
       "      <td>1.0</td>\n",
       "      <td>Trip Completed</td>\n",
       "      <td>2016-07-12 09:17:00</td>\n",
       "      <td>2016-07-12 09:58:00</td>\n",
       "      <td>2016-07-12</td>\n",
       "      <td>09:17:00</td>\n",
       "      <td>9</td>\n",
       "      <td>2016-07-12</td>\n",
       "      <td>09:58:00</td>\n",
       "      <td>9.0</td>\n",
       "      <td>Morning</td>\n",
       "    </tr>\n",
       "    <tr>\n",
       "      <th>3</th>\n",
       "      <td>2532</td>\n",
       "      <td>Airport</td>\n",
       "      <td>1.0</td>\n",
       "      <td>Trip Completed</td>\n",
       "      <td>2016-07-12 21:08:00</td>\n",
       "      <td>2016-07-12 22:03:00</td>\n",
       "      <td>2016-07-12</td>\n",
       "      <td>21:08:00</td>\n",
       "      <td>21</td>\n",
       "      <td>2016-07-12</td>\n",
       "      <td>22:03:00</td>\n",
       "      <td>22.0</td>\n",
       "      <td>Late Evening</td>\n",
       "    </tr>\n",
       "    <tr>\n",
       "      <th>4</th>\n",
       "      <td>3112</td>\n",
       "      <td>City</td>\n",
       "      <td>1.0</td>\n",
       "      <td>Trip Completed</td>\n",
       "      <td>2016-07-13 08:33:16</td>\n",
       "      <td>2016-07-13 09:25:47</td>\n",
       "      <td>2016-07-13</td>\n",
       "      <td>08:33:16</td>\n",
       "      <td>8</td>\n",
       "      <td>2016-07-13</td>\n",
       "      <td>09:25:47</td>\n",
       "      <td>9.0</td>\n",
       "      <td>Morning</td>\n",
       "    </tr>\n",
       "  </tbody>\n",
       "</table>\n",
       "</div>"
      ],
      "text/plain": [
       "   Request id Pickup point  Driver id          Status   Request timestamp  \\\n",
       "0         619      Airport        1.0  Trip Completed 2016-07-11 11:51:00   \n",
       "1         867      Airport        1.0  Trip Completed 2016-07-11 17:57:00   \n",
       "2        1807         City        1.0  Trip Completed 2016-07-12 09:17:00   \n",
       "3        2532      Airport        1.0  Trip Completed 2016-07-12 21:08:00   \n",
       "4        3112         City        1.0  Trip Completed 2016-07-13 08:33:16   \n",
       "\n",
       "       Drop timestamp Request_Day Request_Time  Request_hours    Drop_Day  \\\n",
       "0 2016-07-11 13:00:00  2016-07-11     11:51:00             11  2016-07-11   \n",
       "1 2016-07-11 18:47:00  2016-07-11     17:57:00             17  2016-07-11   \n",
       "2 2016-07-12 09:58:00  2016-07-12     09:17:00              9  2016-07-12   \n",
       "3 2016-07-12 22:03:00  2016-07-12     21:08:00             21  2016-07-12   \n",
       "4 2016-07-13 09:25:47  2016-07-13     08:33:16              8  2016-07-13   \n",
       "\n",
       "  Drop_Time  Drop_hours  Times_of_Day  \n",
       "0  13:00:00        13.0       Morning  \n",
       "1  18:47:00        18.0       Evening  \n",
       "2  09:58:00         9.0       Morning  \n",
       "3  22:03:00        22.0  Late Evening  \n",
       "4  09:25:47         9.0       Morning  "
      ]
     },
     "execution_count": 13,
     "metadata": {},
     "output_type": "execute_result"
    }
   ],
   "source": [
    "#Creating a new derived column from Days columns as times of the day\n",
    "\n",
    "#Morning (05:00 AM to 12:00 PM)\n",
    "uber_df.loc[(pd.to_datetime(uber_df[\"Request timestamp\"]).dt.hour>5) & \n",
    "            (pd.to_datetime(uber_df[\"Request timestamp\"]).dt.hour<12),\"Times_of_Day\"] = \"Morning\"\n",
    "\n",
    "#Afternoon (12:00 PM to 03:00 PM)\n",
    "uber_df.loc[(pd.to_datetime(uber_df[\"Request timestamp\"]).dt.hour>=12) & \n",
    "           (pd.to_datetime(uber_df[\"Request timestamp\"]).dt.hour<=15),\"Times_of_Day\"] = \"Afternoon\"\n",
    "\n",
    "#Evening (03:00 PM to 07:00 PM)\n",
    "uber_df.loc[(pd.to_datetime(uber_df[\"Request timestamp\"]).dt.hour>15) &\n",
    "           (pd.to_datetime(uber_df[\"Request timestamp\"]).dt.hour<19),\"Times_of_Day\"] = \"Evening\"\n",
    "\n",
    "#Late Evening (07:00 PM to 09:00 PM)\n",
    "uber_df.loc[(pd.to_datetime(uber_df[\"Request timestamp\"]).dt.hour>=19) &\n",
    "          (pd.to_datetime(uber_df[\"Request timestamp\"]).dt.hour<=21),\"Times_of_Day\"] = \"Late Evening\"\n",
    "\n",
    "#Night (09:00 PM to 12:00 AM)\n",
    "uber_df.loc[(pd.to_datetime(uber_df[\"Request timestamp\"]).dt.hour>21) & \n",
    "          (pd.to_datetime(uber_df[\"Request timestamp\"]).dt.hour<24),\"Times_of_Day\"] = \"Night\"\n",
    "\n",
    "#Mid Night (12:00 AM to 05:00 AM)\n",
    "uber_df.loc[(pd.to_datetime(uber_df[\"Request timestamp\"]).dt.hour>=0) & \n",
    "          (pd.to_datetime(uber_df[\"Request timestamp\"]).dt.hour<=5),\"Times_of_Day\"] = \"Mid Night\"\n",
    "\n",
    "uber_df.head()"
   ]
  },
  {
   "cell_type": "markdown",
   "metadata": {},
   "source": [
    "# Visually identify the most pressing problems for Uber"
   ]
  },
  {
   "cell_type": "code",
   "execution_count": 14,
   "metadata": {},
   "outputs": [
    {
     "data": {
      "text/plain": [
       "<matplotlib.axes._subplots.AxesSubplot at 0x1e88036bd68>"
      ]
     },
     "execution_count": 14,
     "metadata": {},
     "output_type": "execute_result"
    },
    {
     "data": {
      "image/png": "[encoded data removed]",
      "text/plain": [
       "<Figure size 288x504 with 1 Axes>"
      ]
     },
     "metadata": {
      "needs_background": "light"
     },
     "output_type": "display_data"
    }
   ],
   "source": [
    "#Plot the status column to find the total trip completed, cancelled or no car available\n",
    "\n",
    "plt.subplots(figsize = (4,7))\n",
    "plt.title(\"Status\", size = 20)\n",
    "sns.countplot(uber_df['Status'])"
   ]
  },
  {
   "cell_type": "code",
   "execution_count": 15,
   "metadata": {},
   "outputs": [
    {
     "data": {
      "image/png": "[encoded data removed]",
      "text/plain": [
       "<Figure size 432x288 with 1 Axes>"
      ]
     },
     "metadata": {},
     "output_type": "display_data"
    }
   ],
   "source": [
    "#To Identify the major issue between no cars available and car cancelled\n",
    "\n",
    "#Define a pie chart variable \n",
    "def pie_chart(dataframe):\n",
    "    labels = dataframe.index.values\n",
    "    sizes = dataframe['Status'].values\n",
    "        \n",
    "    f1, ax1 = plt.subplots()\n",
    "    ax1.pie(sizes, labels=labels, autopct='%1.1f%%', shadow=True, startangle=90)\n",
    "    ax1.axis('equal')\n",
    "    plt.show()\n",
    "\n",
    "#To define a condition for pie chart as per status\n",
    "uber_df1 = uber_df[(uber_df[\"Status\"]==\"Cancelled\") | (uber_df[\"Status\"]==\"No Cars Available\")]\n",
    "\n",
    "uber_df1_Plot = pd.DataFrame(uber_df1.Status.value_counts())\n",
    "pie_chart(uber_df1_Plot)"
   ]
  },
  {
   "cell_type": "markdown",
   "metadata": {},
   "source": [
    "### It can be seen that unavailability of cars is major issue."
   ]
  },
  {
   "cell_type": "code",
   "execution_count": 16,
   "metadata": {
    "scrolled": false
   },
   "outputs": [
    {
     "data": {
      "text/plain": [
       "<matplotlib.legend.Legend at 0x1e8816a89b0>"
      ]
     },
     "execution_count": 16,
     "metadata": {},
     "output_type": "execute_result"
    },
    {
     "data": {
      "image/png": "[encoded data removed]",
      "text/plain": [
       "<Figure size 864x576 with 1 Axes>"
      ]
     },
     "metadata": {
      "needs_background": "light"
     },
     "output_type": "display_data"
    }
   ],
   "source": [
    "#Plot the status as per the times of day\n",
    "\n",
    "plt.subplots(figsize = (12,8))\n",
    "Plot1 = sns.countplot(x = 'Times_of_Day',hue = 'Status',data = uber_df)\n",
    "plt.title(\"Trip status as per time of the day\", size = 20)\n",
    "plt.legend(bbox_to_anchor = (1.0, 0.5), loc = 'best')"
   ]
  },
  {
   "cell_type": "markdown",
   "metadata": {},
   "source": [
    "### In morning it is found that major of the trips are cancelled.\n",
    "### In Evening and late evening unavailability of cars is the major issue."
   ]
  },
  {
   "cell_type": "code",
   "execution_count": 17,
   "metadata": {
    "scrolled": false
   },
   "outputs": [
    {
     "data": {
      "text/plain": [
       "<matplotlib.legend.Legend at 0x1e8817e37f0>"
      ]
     },
     "execution_count": 17,
     "metadata": {},
     "output_type": "execute_result"
    },
    {
     "data": {
      "image/png": "[encoded data removed]",
      "text/plain": [
       "<Figure size 1152x576 with 1 Axes>"
      ]
     },
     "metadata": {
      "needs_background": "light"
     },
     "output_type": "display_data"
    }
   ],
   "source": [
    "#Plot the status as per the hour of the day\n",
    "\n",
    "plt.subplots(figsize = (16,8))\n",
    "Plot1 = sns.countplot(x = 'Request_hours',hue = 'Status',data = uber_df)\n",
    "plt.title(\"Trip status as per hour of the day\", size = 20)\n",
    "plt.legend(bbox_to_anchor = (1.15, 0.5), loc = 'best')"
   ]
  },
  {
   "cell_type": "markdown",
   "metadata": {},
   "source": [
    "### It can be seen that from 05:00 to 09:00 is the time when most trips are cancelled.\n",
    "### It can also be identified that from 17:00 to 22:00 is the time when there is shortage of cars."
   ]
  },
  {
   "cell_type": "code",
   "execution_count": 18,
   "metadata": {},
   "outputs": [
    {
     "data": {
      "text/plain": [
       "<matplotlib.legend.Legend at 0x1e8818484e0>"
      ]
     },
     "execution_count": 18,
     "metadata": {},
     "output_type": "execute_result"
    },
    {
     "data": {
      "image/png": "[encoded data removed]",
      "text/plain": [
       "<Figure size 720x504 with 1 Axes>"
      ]
     },
     "metadata": {
      "needs_background": "light"
     },
     "output_type": "display_data"
    }
   ],
   "source": [
    "#Plot the status as per pickup point\n",
    "\n",
    "plt.subplots(figsize = (10,7))\n",
    "Plot2 = sns.countplot(x = 'Pickup point',hue = 'Status',data = uber_df)\n",
    "plt.title(\"Trip status as per pickup points\", size = 20)\n",
    "plt.legend(bbox_to_anchor = (1.0, 0.5), loc = 'best')"
   ]
  },
  {
   "cell_type": "markdown",
   "metadata": {},
   "source": [
    "### Airport: The major issue is unavailability of cars.\n",
    "### City: The major issue is cancellation."
   ]
  },
  {
   "cell_type": "code",
   "execution_count": 20,
   "metadata": {},
   "outputs": [
    {
     "data": {
      "image/png": "[encoded data removed]",
      "text/plain": [
       "<Figure size 1296x1080 with 2 Axes>"
      ]
     },
     "metadata": {
      "needs_background": "light"
     },
     "output_type": "display_data"
    }
   ],
   "source": [
    "#Plot for status as per pickup locations for time of the day \n",
    "uber_df_airport = uber_df[(uber_df['Pickup point'] == 'Airport')]\n",
    "uber_df_city = uber_df[(uber_df['Pickup point'] == 'City')]\n",
    "\n",
    "plt.subplots(figsize = (18, 15))\n",
    "\n",
    "#subplot 1\n",
    "plt.subplot(2, 1, 1)\n",
    "plt.title('Trip Status from Airport as per time of the day', size = 20)\n",
    "sns.countplot(x = \"Times_of_Day\", hue = 'Status', data = uber_df_airport);\n",
    "\n",
    "#subplot 2\n",
    "plt.subplot(2, 1, 2)\n",
    "plt.title('Trip Status from City as per time of the day', size = 20)\n",
    "sns.countplot(x = \"Times_of_Day\", hue = 'Status', data = uber_df_city);\n",
    "\n",
    "plt.show()"
   ]
  },
  {
   "cell_type": "markdown",
   "metadata": {},
   "source": [
    "### Airport: The major issue exist in evening and late evening.\n",
    "### City: The major issue exist in morning."
   ]
  },
  {
   "cell_type": "markdown",
   "metadata": {},
   "source": [
    "# The Gap between Supply and Demand (Overall)"
   ]
  },
  {
   "cell_type": "code",
   "execution_count": 21,
   "metadata": {},
   "outputs": [],
   "source": [
    "# To create a copy of df\n",
    "\n",
    "uber_df1 = pd.DataFrame()\n",
    "uber_df1 = uber_df.copy()\n",
    "uber_df1['Status'] = 'Demand'\n",
    "uber_df2 = uber_df.append(uber_df1)\n",
    "\n",
    "# Replaceing no car available and cancelled status as gap\n",
    "# Replaceing Trip completed as supply\n",
    "uber_df2['Status'] = uber_df2['Status'].replace(['Cancelled','No Cars Available'],'Gap')\n",
    "uber_df2['Status'] = uber_df2['Status'].replace(['Trip Completed'],'Supply')"
   ]
  },
  {
   "cell_type": "code",
   "execution_count": 22,
   "metadata": {},
   "outputs": [
    {
     "name": "stdout",
     "output_type": "stream",
     "text": [
      "6745\n",
      "2831\n",
      "3914\n",
      "41.971830985915496\n"
     ]
    }
   ],
   "source": [
    "# To Check for overall supply demand and gap accross city and airport\n",
    "\n",
    "# Total Demand\n",
    "Total_Demand_Overall = uber_df2[(uber_df2[\"Status\"] == \"Demand\")] \n",
    "print(len(Total_Demand_Overall.index))\n",
    "\n",
    "# Total Supply\n",
    "Total_Supply_Overall = uber_df2[(uber_df2[\"Status\"] == 'Supply')]\n",
    "print(len(Total_Supply_Overall.index))\n",
    "\n",
    "# Total Supply-Demand Gap\n",
    "Supply_Demand_Gap_Overall = uber_df2[(uber_df2[\"Status\"] == 'Gap')]\n",
    "print(len(Supply_Demand_Gap_Overall.index))\n",
    "\n",
    "#Percentage difference in demand supply\n",
    "Percentage_Diff_Overall = (((len(uber_df2[(uber_df2[\"Status\"] == 'Supply')].index))/(len(uber_df2[(uber_df2[\"Status\"] == 'Demand')].index)))*100)\n",
    "print(Percentage_Diff_Overall)"
   ]
  },
  {
   "cell_type": "markdown",
   "metadata": {},
   "source": [
    "# City Wise Analysis"
   ]
  },
  {
   "cell_type": "code",
   "execution_count": 23,
   "metadata": {
    "scrolled": true
   },
   "outputs": [
    {
     "data": {
      "image/png": "[encoded data removed]",
      "text/plain": [
       "<Figure size 720x360 with 1 Axes>"
      ]
     },
     "metadata": {
      "needs_background": "light"
     },
     "output_type": "display_data"
    }
   ],
   "source": [
    "#Plot pickup request from city as per hour of the day\n",
    "uber_df_city1 = uber_df1[(uber_df1['Pickup point'] == 'City')] \n",
    "plt.subplots(figsize = (10, 5))\n",
    "\n",
    "plt.title('Pickup Request from City as per hour of the day', size = 20)\n",
    "sns.countplot(x = \"Request_hours\",  data = uber_df_city1)\n",
    "\n",
    "plt.show()"
   ]
  },
  {
   "cell_type": "markdown",
   "metadata": {},
   "source": [
    "# The Gap between Supply and Demand (City)"
   ]
  },
  {
   "cell_type": "code",
   "execution_count": 24,
   "metadata": {},
   "outputs": [
    {
     "name": "stdout",
     "output_type": "stream",
     "text": [
      "3507\n",
      "1504\n",
      "2003\n",
      "42.88565725691475\n"
     ]
    }
   ],
   "source": [
    "\n",
    "# Total Demand in City\n",
    "Total_Demand_City = uber_df2[(uber_df2[\"Pickup point\"] == \"City\") & (uber_df2[\"Status\"] == \"Demand\")] \n",
    "print(len(Total_Demand_City.index))\n",
    "\n",
    "# Total Supply in City\n",
    "Total_Supply_City = uber_df2[(uber_df2[\"Pickup point\"] == \"City\") & (uber_df2[\"Status\"] == \"Supply\")]\n",
    "print(len(Total_Supply_City.index))\n",
    "\n",
    "# Total Gap in City\n",
    "Supply_Demand_Gap_City = uber_df2[(uber_df2[\"Pickup point\"] == \"City\") & (uber_df2[\"Status\"] == \"Gap\")] \n",
    "print(len(Supply_Demand_Gap_City.index))\n",
    "\n",
    "#Percentage difference in demand supply\n",
    "Percentage_Diff_City = (((len(uber_df2[(uber_df2[\"Pickup point\"] == \"City\") & (uber_df2[\"Status\"] == \"Supply\")].index))/\n",
    "                            (len(uber_df2[(uber_df2[\"Pickup point\"] == \"City\") & (uber_df2[\"Status\"] == \"Demand\")].index)))*100)\n",
    "print(Percentage_Diff_City)"
   ]
  },
  {
   "cell_type": "code",
   "execution_count": 36,
   "metadata": {},
   "outputs": [
    {
     "data": {
      "text/html": [
       "<div>\n",
       "<style scoped>\n",
       "    .dataframe tbody tr th:only-of-type {\n",
       "        vertical-align: middle;\n",
       "    }\n",
       "\n",
       "    .dataframe tbody tr th {\n",
       "        vertical-align: top;\n",
       "    }\n",
       "\n",
       "    .dataframe thead th {\n",
       "        text-align: right;\n",
       "    }\n",
       "</style>\n",
       "<table border=\"1\" class=\"dataframe\">\n",
       "  <thead>\n",
       "    <tr style=\"text-align: right;\">\n",
       "      <th>Status</th>\n",
       "      <th>Cancelled</th>\n",
       "      <th>No Cars Available</th>\n",
       "      <th>Trip Completed</th>\n",
       "      <th>Total</th>\n",
       "      <th>Difference</th>\n",
       "      <th>Percentage_Difference</th>\n",
       "    </tr>\n",
       "    <tr>\n",
       "      <th>Times_of_Day</th>\n",
       "      <th></th>\n",
       "      <th></th>\n",
       "      <th></th>\n",
       "      <th></th>\n",
       "      <th></th>\n",
       "      <th></th>\n",
       "    </tr>\n",
       "  </thead>\n",
       "  <tbody>\n",
       "    <tr>\n",
       "      <th>Afternoon</th>\n",
       "      <td>69</td>\n",
       "      <td>182</td>\n",
       "      <td>400</td>\n",
       "      <td>651</td>\n",
       "      <td>251</td>\n",
       "      <td>38.56</td>\n",
       "    </tr>\n",
       "    <tr>\n",
       "      <th>Evening</th>\n",
       "      <td>81</td>\n",
       "      <td>600</td>\n",
       "      <td>406</td>\n",
       "      <td>1087</td>\n",
       "      <td>681</td>\n",
       "      <td>62.65</td>\n",
       "    </tr>\n",
       "    <tr>\n",
       "      <th>Late Evening</th>\n",
       "      <td>107</td>\n",
       "      <td>838</td>\n",
       "      <td>469</td>\n",
       "      <td>1414</td>\n",
       "      <td>945</td>\n",
       "      <td>66.83</td>\n",
       "    </tr>\n",
       "    <tr>\n",
       "      <th>Mid Night</th>\n",
       "      <td>241</td>\n",
       "      <td>383</td>\n",
       "      <td>399</td>\n",
       "      <td>1023</td>\n",
       "      <td>624</td>\n",
       "      <td>61.00</td>\n",
       "    </tr>\n",
       "    <tr>\n",
       "      <th>Morning</th>\n",
       "      <td>744</td>\n",
       "      <td>428</td>\n",
       "      <td>900</td>\n",
       "      <td>2072</td>\n",
       "      <td>1172</td>\n",
       "      <td>56.56</td>\n",
       "    </tr>\n",
       "    <tr>\n",
       "      <th>Night</th>\n",
       "      <td>22</td>\n",
       "      <td>219</td>\n",
       "      <td>257</td>\n",
       "      <td>498</td>\n",
       "      <td>241</td>\n",
       "      <td>48.39</td>\n",
       "    </tr>\n",
       "  </tbody>\n",
       "</table>\n",
       "</div>"
      ],
      "text/plain": [
       "Status        Cancelled  No Cars Available  Trip Completed  Total  Difference  \\\n",
       "Times_of_Day                                                                    \n",
       "Afternoon            69                182             400    651         251   \n",
       "Evening              81                600             406   1087         681   \n",
       "Late Evening        107                838             469   1414         945   \n",
       "Mid Night           241                383             399   1023         624   \n",
       "Morning             744                428             900   2072        1172   \n",
       "Night                22                219             257    498         241   \n",
       "\n",
       "Status        Percentage_Difference  \n",
       "Times_of_Day                         \n",
       "Afternoon                     38.56  \n",
       "Evening                       62.65  \n",
       "Late Evening                  66.83  \n",
       "Mid Night                     61.00  \n",
       "Morning                       56.56  \n",
       "Night                         48.39  "
      ]
     },
     "execution_count": 36,
     "metadata": {},
     "output_type": "execute_result"
    }
   ],
   "source": [
    "# To check the status of cabs as per time of day and find the difference between trip completed and rejected\n",
    "\n",
    "uber_df_overall = uber_df.groupby(['Times_of_Day','Status']).count()['Request id'].unstack()\n",
    "uber_df_overall = uber_df_overall.fillna(0)\n",
    "uber_df_overall['Total'] = uber_df_overall['Cancelled']+uber_df_overall['No Cars Available']+uber_df_overall['Trip Completed']\n",
    "uber_df_overall['Difference'] = uber_df_overall['Total'] - uber_df_overall['Trip Completed']\n",
    "\n",
    "#To find the percentage difference\n",
    "uber_df_overall['Percentage_Difference'] = ((uber_df_overall['Difference'] / uber_df_overall['Total'])*100).round(2)\n",
    "uber_df_overall"
   ]
  },
  {
   "cell_type": "code",
   "execution_count": 25,
   "metadata": {},
   "outputs": [
    {
     "data": {
      "text/html": [
       "<div>\n",
       "<style scoped>\n",
       "    .dataframe tbody tr th:only-of-type {\n",
       "        vertical-align: middle;\n",
       "    }\n",
       "\n",
       "    .dataframe tbody tr th {\n",
       "        vertical-align: top;\n",
       "    }\n",
       "\n",
       "    .dataframe thead th {\n",
       "        text-align: right;\n",
       "    }\n",
       "</style>\n",
       "<table border=\"1\" class=\"dataframe\">\n",
       "  <thead>\n",
       "    <tr style=\"text-align: right;\">\n",
       "      <th>Status</th>\n",
       "      <th>Cancelled</th>\n",
       "      <th>No Cars Available</th>\n",
       "      <th>Trip Completed</th>\n",
       "      <th>Total</th>\n",
       "      <th>Difference</th>\n",
       "      <th>Percentage_Difference_City</th>\n",
       "    </tr>\n",
       "    <tr>\n",
       "      <th>Times_of_Day</th>\n",
       "      <th></th>\n",
       "      <th></th>\n",
       "      <th></th>\n",
       "      <th></th>\n",
       "      <th></th>\n",
       "      <th></th>\n",
       "    </tr>\n",
       "  </thead>\n",
       "  <tbody>\n",
       "    <tr>\n",
       "      <th>Afternoon</th>\n",
       "      <td>33</td>\n",
       "      <td>127</td>\n",
       "      <td>213</td>\n",
       "      <td>373</td>\n",
       "      <td>160</td>\n",
       "      <td>42.90</td>\n",
       "    </tr>\n",
       "    <tr>\n",
       "      <th>Evening</th>\n",
       "      <td>33</td>\n",
       "      <td>67</td>\n",
       "      <td>213</td>\n",
       "      <td>313</td>\n",
       "      <td>100</td>\n",
       "      <td>31.95</td>\n",
       "    </tr>\n",
       "    <tr>\n",
       "      <th>Late Evening</th>\n",
       "      <td>35</td>\n",
       "      <td>41</td>\n",
       "      <td>251</td>\n",
       "      <td>327</td>\n",
       "      <td>76</td>\n",
       "      <td>23.24</td>\n",
       "    </tr>\n",
       "    <tr>\n",
       "      <th>Mid Night</th>\n",
       "      <td>235</td>\n",
       "      <td>232</td>\n",
       "      <td>211</td>\n",
       "      <td>678</td>\n",
       "      <td>467</td>\n",
       "      <td>68.88</td>\n",
       "    </tr>\n",
       "    <tr>\n",
       "      <th>Morning</th>\n",
       "      <td>711</td>\n",
       "      <td>387</td>\n",
       "      <td>501</td>\n",
       "      <td>1599</td>\n",
       "      <td>1098</td>\n",
       "      <td>68.67</td>\n",
       "    </tr>\n",
       "    <tr>\n",
       "      <th>Night</th>\n",
       "      <td>19</td>\n",
       "      <td>83</td>\n",
       "      <td>115</td>\n",
       "      <td>217</td>\n",
       "      <td>102</td>\n",
       "      <td>47.00</td>\n",
       "    </tr>\n",
       "  </tbody>\n",
       "</table>\n",
       "</div>"
      ],
      "text/plain": [
       "Status        Cancelled  No Cars Available  Trip Completed  Total  Difference  \\\n",
       "Times_of_Day                                                                    \n",
       "Afternoon            33                127             213    373         160   \n",
       "Evening              33                 67             213    313         100   \n",
       "Late Evening         35                 41             251    327          76   \n",
       "Mid Night           235                232             211    678         467   \n",
       "Morning             711                387             501   1599        1098   \n",
       "Night                19                 83             115    217         102   \n",
       "\n",
       "Status        Percentage_Difference_City  \n",
       "Times_of_Day                              \n",
       "Afternoon                          42.90  \n",
       "Evening                            31.95  \n",
       "Late Evening                       23.24  \n",
       "Mid Night                          68.88  \n",
       "Morning                            68.67  \n",
       "Night                              47.00  "
      ]
     },
     "execution_count": 25,
     "metadata": {},
     "output_type": "execute_result"
    }
   ],
   "source": [
    "# To check the status of cabs as per time of day from city and find the difference between trip completed and rejected\n",
    "\n",
    "uber_df_city1 = uber_df_city.groupby(['Times_of_Day','Status']).count()['Request id'].unstack()\n",
    "uber_df_city1 = uber_df_city1.fillna(0)\n",
    "uber_df_city1['Total'] = uber_df_city1['Cancelled']+uber_df_city1['No Cars Available']+uber_df_city1['Trip Completed']\n",
    "uber_df_city1['Difference'] = uber_df_city1['Total'] - uber_df_city1['Trip Completed']\n",
    "\n",
    "#To find the percentage difference\n",
    "uber_df_city1['Percentage_Difference_City'] = ((uber_df_city1['Difference'] / uber_df_city1['Total'])*100).round(2)\n",
    "uber_df_city1"
   ]
  },
  {
   "cell_type": "code",
   "execution_count": 26,
   "metadata": {},
   "outputs": [
    {
     "name": "stderr",
     "output_type": "stream",
     "text": [
      "D:\\Anaconda_Setup\\lib\\site-packages\\pandas\\core\\indexing.py:362: SettingWithCopyWarning: \n",
      "A value is trying to be set on a copy of a slice from a DataFrame.\n",
      "Try using .loc[row_indexer,col_indexer] = value instead\n",
      "\n",
      "See the caveats in the documentation: http://pandas.pydata.org/pandas-docs/stable/indexing.html#indexing-view-versus-copy\n",
      "  self.obj[key] = _infer_fill_value(value)\n",
      "D:\\Anaconda_Setup\\lib\\site-packages\\pandas\\core\\indexing.py:543: SettingWithCopyWarning: \n",
      "A value is trying to be set on a copy of a slice from a DataFrame.\n",
      "Try using .loc[row_indexer,col_indexer] = value instead\n",
      "\n",
      "See the caveats in the documentation: http://pandas.pydata.org/pandas-docs/stable/indexing.html#indexing-view-versus-copy\n",
      "  self.obj[item] = s\n"
     ]
    }
   ],
   "source": [
    "uber_df_city2 = uber_df2[(uber_df2['Pickup point'] == 'City')] \n",
    "uber_df_city2.loc[uber_df_city2[\"Status\"] == \"Supply\",\"Service\"] = \"Satisfied\"\n",
    "uber_df_city2.loc[uber_df_city2[\"Status\"] == \"Gap\",\"Service\"] = \"Unsatisfied\""
   ]
  },
  {
   "cell_type": "code",
   "execution_count": 27,
   "metadata": {},
   "outputs": [
    {
     "data": {
      "text/plain": [
       "<matplotlib.legend.Legend at 0x1e881b999e8>"
      ]
     },
     "execution_count": 27,
     "metadata": {},
     "output_type": "execute_result"
    },
    {
     "data": {
      "image/png": "[encoded data removed]",
      "text/plain": [
       "<Figure size 864x504 with 1 Axes>"
      ]
     },
     "metadata": {
      "needs_background": "light"
     },
     "output_type": "display_data"
    }
   ],
   "source": [
    "#Plot the satisfication of city customer as per time of the day\n",
    "\n",
    "plt.subplots(figsize = (12,7))\n",
    "Plot2 = sns.countplot(x = 'Times_of_Day',hue = 'Service',data = uber_df_city2)\n",
    "plt.title(\"Satisfied service for city customer as per time of the day\", size = 20)\n",
    "plt.legend(bbox_to_anchor = (1.0, 0.5), loc = 'best')"
   ]
  },
  {
   "cell_type": "markdown",
   "metadata": {},
   "source": [
    "### Most unsatisfied customers from city are at morning and mid night."
   ]
  },
  {
   "cell_type": "code",
   "execution_count": 28,
   "metadata": {},
   "outputs": [
    {
     "data": {
      "text/plain": [
       "<matplotlib.legend.Legend at 0x1e881c40f98>"
      ]
     },
     "execution_count": 28,
     "metadata": {},
     "output_type": "execute_result"
    },
    {
     "data": {
      "image/png": "[encoded data removed]",
      "text/plain": [
       "<Figure size 1080x504 with 1 Axes>"
      ]
     },
     "metadata": {
      "needs_background": "light"
     },
     "output_type": "display_data"
    }
   ],
   "source": [
    "#Plot the satisfication of city customer as per hour of the day\n",
    "\n",
    "plt.subplots(figsize = (15,7))\n",
    "Plot2 = sns.countplot(x = 'Request_hours',hue = 'Service',data = uber_df_city2)\n",
    "plt.title(\"Satisfied service for city customer as per hour of the day\", size = 20)\n",
    "plt.legend(bbox_to_anchor = (1.0, 0.5), loc = 'best')"
   ]
  },
  {
   "cell_type": "markdown",
   "metadata": {},
   "source": [
    "### Most unsatisfied customers from city are at from 23:00 to 10:00 hours."
   ]
  },
  {
   "cell_type": "markdown",
   "metadata": {},
   "source": [
    "# Airport Wise Analysis"
   ]
  },
  {
   "cell_type": "code",
   "execution_count": 29,
   "metadata": {},
   "outputs": [
    {
     "data": {
      "image/png": "[encoded data removed]",
      "text/plain": [
       "<Figure size 720x360 with 1 Axes>"
      ]
     },
     "metadata": {
      "needs_background": "light"
     },
     "output_type": "display_data"
    }
   ],
   "source": [
    "#Plot pickup request from airport as per hour of the day\n",
    "uber_df_airport1 = uber_df1[(uber_df1['Pickup point'] == 'Airport')]\n",
    "\n",
    "plt.subplots(figsize = (10, 5))\n",
    "plt.title('Pickup Request from Airport as per hour of the day', size = 20)\n",
    "sns.countplot(x = \"Request_hours\",  data = uber_df_airport1)\n",
    "\n",
    "plt.show()"
   ]
  },
  {
   "cell_type": "markdown",
   "metadata": {},
   "source": [
    "# The Gap between Supply and Demand (Airport)"
   ]
  },
  {
   "cell_type": "code",
   "execution_count": 30,
   "metadata": {},
   "outputs": [
    {
     "name": "stdout",
     "output_type": "stream",
     "text": [
      "3238\n",
      "1327\n",
      "1911\n",
      "40.98208770846201\n"
     ]
    }
   ],
   "source": [
    "# Total Demand in Airport\n",
    "Total_Demand_Airport = uber_df2[(uber_df2[\"Pickup point\"] == \"Airport\") & (uber_df2[\"Status\"] == \"Demand\")] \n",
    "print(len(Total_Demand_Airport.index))\n",
    "\n",
    "# Total Supply in Airport\n",
    "Total_Supply_Airport = uber_df2[(uber_df2[\"Pickup point\"] == \"Airport\") & (uber_df2[\"Status\"] == \"Supply\")]\n",
    "print(len(Total_Supply_Airport.index))\n",
    "\n",
    "# Total Gap in Airport\n",
    "Supply_Demand_Gap_Airport = uber_df2[(uber_df2[\"Pickup point\"] == \"Airport\") & (uber_df2[\"Status\"] == \"Gap\")] \n",
    "print(len(Supply_Demand_Gap_Airport.index))\n",
    "\n",
    "#Percentage difference in demand supply\n",
    "Percentage_Diff_Airport = (((len(uber_df2[(uber_df2[\"Pickup point\"] == \"Airport\") & (uber_df2[\"Status\"] == \"Supply\")].index))/\n",
    "                            (len(uber_df2[(uber_df2[\"Pickup point\"] == \"Airport\") & (uber_df2[\"Status\"] == \"Demand\")].index)))*100)\n",
    "print(Percentage_Diff_Airport)"
   ]
  },
  {
   "cell_type": "code",
   "execution_count": 37,
   "metadata": {},
   "outputs": [
    {
     "data": {
      "text/html": [
       "<div>\n",
       "<style scoped>\n",
       "    .dataframe tbody tr th:only-of-type {\n",
       "        vertical-align: middle;\n",
       "    }\n",
       "\n",
       "    .dataframe tbody tr th {\n",
       "        vertical-align: top;\n",
       "    }\n",
       "\n",
       "    .dataframe thead th {\n",
       "        text-align: right;\n",
       "    }\n",
       "</style>\n",
       "<table border=\"1\" class=\"dataframe\">\n",
       "  <thead>\n",
       "    <tr style=\"text-align: right;\">\n",
       "      <th>Status</th>\n",
       "      <th>Cancelled</th>\n",
       "      <th>No Cars Available</th>\n",
       "      <th>Trip Completed</th>\n",
       "      <th>Total</th>\n",
       "      <th>Difference</th>\n",
       "      <th>Percentage_Difference_Airport</th>\n",
       "    </tr>\n",
       "    <tr>\n",
       "      <th>Times_of_Day</th>\n",
       "      <th></th>\n",
       "      <th></th>\n",
       "      <th></th>\n",
       "      <th></th>\n",
       "      <th></th>\n",
       "      <th></th>\n",
       "    </tr>\n",
       "  </thead>\n",
       "  <tbody>\n",
       "    <tr>\n",
       "      <th>Afternoon</th>\n",
       "      <td>36</td>\n",
       "      <td>55</td>\n",
       "      <td>187</td>\n",
       "      <td>278</td>\n",
       "      <td>91</td>\n",
       "      <td>32.73</td>\n",
       "    </tr>\n",
       "    <tr>\n",
       "      <th>Evening</th>\n",
       "      <td>48</td>\n",
       "      <td>533</td>\n",
       "      <td>193</td>\n",
       "      <td>774</td>\n",
       "      <td>581</td>\n",
       "      <td>75.06</td>\n",
       "    </tr>\n",
       "    <tr>\n",
       "      <th>Late Evening</th>\n",
       "      <td>72</td>\n",
       "      <td>797</td>\n",
       "      <td>218</td>\n",
       "      <td>1087</td>\n",
       "      <td>869</td>\n",
       "      <td>79.94</td>\n",
       "    </tr>\n",
       "    <tr>\n",
       "      <th>Mid Night</th>\n",
       "      <td>6</td>\n",
       "      <td>151</td>\n",
       "      <td>188</td>\n",
       "      <td>345</td>\n",
       "      <td>157</td>\n",
       "      <td>45.51</td>\n",
       "    </tr>\n",
       "    <tr>\n",
       "      <th>Morning</th>\n",
       "      <td>33</td>\n",
       "      <td>41</td>\n",
       "      <td>399</td>\n",
       "      <td>473</td>\n",
       "      <td>74</td>\n",
       "      <td>15.64</td>\n",
       "    </tr>\n",
       "    <tr>\n",
       "      <th>Night</th>\n",
       "      <td>3</td>\n",
       "      <td>136</td>\n",
       "      <td>142</td>\n",
       "      <td>281</td>\n",
       "      <td>139</td>\n",
       "      <td>49.47</td>\n",
       "    </tr>\n",
       "  </tbody>\n",
       "</table>\n",
       "</div>"
      ],
      "text/plain": [
       "Status        Cancelled  No Cars Available  Trip Completed  Total  Difference  \\\n",
       "Times_of_Day                                                                    \n",
       "Afternoon            36                 55             187    278          91   \n",
       "Evening              48                533             193    774         581   \n",
       "Late Evening         72                797             218   1087         869   \n",
       "Mid Night             6                151             188    345         157   \n",
       "Morning              33                 41             399    473          74   \n",
       "Night                 3                136             142    281         139   \n",
       "\n",
       "Status        Percentage_Difference_Airport  \n",
       "Times_of_Day                                 \n",
       "Afternoon                             32.73  \n",
       "Evening                               75.06  \n",
       "Late Evening                          79.94  \n",
       "Mid Night                             45.51  \n",
       "Morning                               15.64  \n",
       "Night                                 49.47  "
      ]
     },
     "execution_count": 37,
     "metadata": {},
     "output_type": "execute_result"
    }
   ],
   "source": [
    "# To check the status of cabs per hour from airport\n",
    "\n",
    "uber_df_airport1 = uber_df_airport.groupby(['Times_of_Day','Status']).count()['Request id'].unstack()\n",
    "uber_df_airport1 = uber_df_airport1.fillna(0)\n",
    "uber_df_airport1['Total'] = uber_df_airport1['Cancelled']+uber_df_airport1['No Cars Available']+uber_df_airport1['Trip Completed']\n",
    "uber_df_airport1['Difference'] = uber_df_airport1['Total'] - uber_df_airport1['Trip Completed']\n",
    "\n",
    "#To find the percentage difference\n",
    "uber_df_airport1['Percentage_Difference_Airport'] = ((uber_df_airport1['Difference'] / uber_df_airport1['Total'])*100).round(2)\n",
    "uber_df_airport1"
   ]
  },
  {
   "cell_type": "code",
   "execution_count": 32,
   "metadata": {},
   "outputs": [
    {
     "name": "stderr",
     "output_type": "stream",
     "text": [
      "D:\\Anaconda_Setup\\lib\\site-packages\\pandas\\core\\indexing.py:362: SettingWithCopyWarning: \n",
      "A value is trying to be set on a copy of a slice from a DataFrame.\n",
      "Try using .loc[row_indexer,col_indexer] = value instead\n",
      "\n",
      "See the caveats in the documentation: http://pandas.pydata.org/pandas-docs/stable/indexing.html#indexing-view-versus-copy\n",
      "  self.obj[key] = _infer_fill_value(value)\n",
      "D:\\Anaconda_Setup\\lib\\site-packages\\pandas\\core\\indexing.py:543: SettingWithCopyWarning: \n",
      "A value is trying to be set on a copy of a slice from a DataFrame.\n",
      "Try using .loc[row_indexer,col_indexer] = value instead\n",
      "\n",
      "See the caveats in the documentation: http://pandas.pydata.org/pandas-docs/stable/indexing.html#indexing-view-versus-copy\n",
      "  self.obj[item] = s\n"
     ]
    }
   ],
   "source": [
    "uber_df_airport2 = uber_df2[(uber_df2['Pickup point'] == 'Airport')] \n",
    "uber_df_airport2.loc[uber_df_airport2[\"Status\"] == \"Supply\",\"Service\"] = \"Satisfied\"\n",
    "uber_df_airport2.loc[uber_df_airport2[\"Status\"] == \"Gap\",\"Service\"] = \"Unsatisfied\""
   ]
  },
  {
   "cell_type": "code",
   "execution_count": 33,
   "metadata": {},
   "outputs": [
    {
     "data": {
      "text/plain": [
       "<matplotlib.legend.Legend at 0x1e8824847f0>"
      ]
     },
     "execution_count": 33,
     "metadata": {},
     "output_type": "execute_result"
    },
    {
     "data": {
      "image/png": "[encoded data removed]",
      "text/plain": [
       "<Figure size 864x504 with 1 Axes>"
      ]
     },
     "metadata": {
      "needs_background": "light"
     },
     "output_type": "display_data"
    }
   ],
   "source": [
    "#Plot the satisfication of airport customer as per time of the day\n",
    "\n",
    "plt.subplots(figsize = (12,7))\n",
    "Plot2 = sns.countplot(x = 'Times_of_Day',hue = 'Service',data = uber_df_airport2)\n",
    "plt.title(\"Satisfied service for airport customer as per time of the day\", size = 20)\n",
    "plt.legend(bbox_to_anchor = (1.0, 0.5), loc = 'best')"
   ]
  },
  {
   "cell_type": "markdown",
   "metadata": {},
   "source": [
    "### Most unsatisfied customers from airport are in evening and late evening."
   ]
  },
  {
   "cell_type": "code",
   "execution_count": 34,
   "metadata": {},
   "outputs": [
    {
     "data": {
      "text/plain": [
       "<matplotlib.legend.Legend at 0x1e881b90b38>"
      ]
     },
     "execution_count": 34,
     "metadata": {},
     "output_type": "execute_result"
    },
    {
     "data": {
      "image/png": "[encoded data removed]",
      "text/plain": [
       "<Figure size 1080x504 with 1 Axes>"
      ]
     },
     "metadata": {
      "needs_background": "light"
     },
     "output_type": "display_data"
    }
   ],
   "source": [
    "#Plot the satisfication of city customer as per hour of the day\n",
    "\n",
    "plt.subplots(figsize = (15,7))\n",
    "Plot2 = sns.countplot(x = 'Request_hours',hue = 'Service',data = uber_df_airport2)\n",
    "plt.title(\"Satisfied service for airport customer as per hour of the day\", size = 20)\n",
    "plt.legend(bbox_to_anchor = (1.0, 0.5), loc = 'best')"
   ]
  },
  {
   "cell_type": "markdown",
   "metadata": {},
   "source": [
    "### Most unsatisfied customers from airport are at from 17:00 to 22:00 hours."
   ]
  },
  {
   "cell_type": "code",
   "execution_count": 40,
   "metadata": {},
   "outputs": [],
   "source": [
    "uber_df1.to_csv(\"Uber_df1.csv\")"
   ]
  },
  {
   "cell_type": "code",
   "execution_count": 41,
   "metadata": {},
   "outputs": [],
   "source": [
    "uber_df.to_csv(\"Uber_df.csv\")"
   ]
  },
  {
   "attachments": {},
   "cell_type": "markdown",
   "metadata": {},
   "source": [
    "# Recomendations\n",
    "\n",
    "1. Special promotions or offers to be rolled out to encourage passengers to travel during non peak hours.\n",
    "\n",
    "2. Increase the prices at peak hours to increase the profit and take the advantage of demand supply.\n",
    "\n",
    "3. Reward points to be allocated to drivers sincerely driving in peak hours.\n",
    "\n",
    "4. Special incentives can be given to loyal drivers and create awareness about the same among other drivers.\n",
    "\n",
    "5. Constant motivation and awareness to all drivers through text messages, email and videos stating we value our people.\n",
    "\n",
    "6. Heavy penalty and strict actions to be taken against the driver for repetitive cancellation of bookings."
   ]
  }
 ],
 "metadata": {
  "kernelspec": {
   "display_name": "Python 3",
   "language": "python",
   "name": "python3"
  },
  "language_info": {
   "codemirror_mode": {
    "name": "ipython",
    "version": 3
   },
   "file_extension": ".py",
   "mimetype": "text/x-python",
   "name": "python",
   "nbconvert_exporter": "python",
   "pygments_lexer": "ipython3",
   "version": "3.7.0"
  }
 },
 "nbformat": 4,
 "nbformat_minor": 2
}
